{
 "cells": [
  {
   "cell_type": "markdown",
   "id": "f273628c",
   "metadata": {},
   "source": [
    "## Sleep, Health, and Lifestyle Research Analysis"
   ]
  },
  {
   "cell_type": "markdown",
   "id": "f8467f6a",
   "metadata": {},
   "source": [
    "### Investigated by: ADELEKE ADEKOLA EMMANUEL\n",
    "#### Industry: HEALTH\n",
    "#### Data Source: ****KAGGLE****\n",
    "### About Dataset\n",
    "This dataset was downloaded from Kaggle, and was updated by a user named; HENRY SHAN.\n",
    "This dataset, containing 373 rows and 13 columns, encompasses a broad spectrum of variables associated with sleep and daily routines. It provides information on aspects like gender, age, profession, duration of sleep, sleep quality, level of physical activity, stress levels, BMI classification, blood pressure, heart rate, daily step count, and the existence or non-existence of sleep disorders.\n",
    "\n",
    "The variables are as follows:\n",
    "\n",
    "Person ID: A unique identifier for each participant.  \n",
    "Gender: The participant's gender (Male/Female).  \n",
    "Age: The participant's age in years.  \n",
    "Occupation: The job or career of the participant.  \n",
    "Sleep Duration (hours): The daily sleep duration of the participant in hours.  \n",
    "Quality of Sleep (scale: 1-10): A subjective assessment of sleep quality on a scale from 1 to 10.  \n",
    "Physical Activity Level (minutes/day): The daily duration of physical activity for the participant, measured in minutes.  \n",
    "Stress Level (scale: 1-10): A subjective assessment of the participant's stress level on a scale from 1 to 10.  \n",
    "BMI Category: The participant's BMI classification (e.g., Underweight, Normal, Overweight).  \n",
    "Blood Pressure (systolic/diastolic): The participant's blood pressure, represented as systolic pressure over diastolic pressure.  \n",
    "Heart Rate (bpm): The participant's resting heart rate, measured in beats per minute.  \n",
    "Daily Steps: The number of steps the participant takes each day.  \n",
    "Sleep Disorder: The presence or absence of a sleep disorder in the participant (None, Insomnia, Sleep Apnea).  \n",
    "\n",
    "### Table of Contents\n",
    "<ul\n",
    "<li><a href=\"#intro\">Introduction</a></li>\n",
    "<li><a href=\"#wrangling\">Data Wrangling</a></li>\n",
    "<li><a href=\"#Data Assesment Outcome\">Data Assesment Outcome</a></li>\n",
    "<li><a href=\"#eda\">Exploratory Data Analysis</a></li>\n",
    "<li><a href=\"#conclusions\">Conclusions</a></li>\n",
    "</ul>"
   ]
  },
  {
   "cell_type": "markdown",
   "id": "bec37524",
   "metadata": {},
   "source": [
    " <a id='intro'></a>\n",
    "## Introduction📚\n",
    "### Dataset Description \n",
    "This dataset, containing 373 rows and 13 columns, encompasses a broad spectrum of variables associated with sleep and daily routines.\n",
    "\n",
    "### Question for Analysis\n",
    "\n",
    "We will be checking different distributions in the dataset and the relationships\n",
    "\n",
    "We will be using Python libraries for the analysis, such as Pandas, NumPy, Matplotlib and Seaborn. "
   ]
  },
  {
   "cell_type": "code",
   "execution_count": 2,
   "id": "903c5ca0",
   "metadata": {},
   "outputs": [],
   "source": [
    "# import all packages and set plots to be embedded inline\n",
    "import numpy as np\n",
    "import pandas as pd\n",
    "import matplotlib.pyplot as plt\n",
    "import seaborn as sns\n",
    "\n",
    "%matplotlib inline\n",
    "\n",
    "# suppress warnings from final output\n",
    "import warnings\n",
    "warnings.simplefilter(\"ignore\")"
   ]
  },
  {
   "cell_type": "markdown",
   "id": "1e68baa6",
   "metadata": {},
   "source": [
    "<a id='wrangling'></a>\n",
    "# Data Wrangling\n",
    "\n",
    "\n",
    "### Preliminary Wrangling\n",
    "General Properties\n",
    "First, the data is read from the csv file and the first five rows are illustrated below."
   ]
  },
  {
   "cell_type": "code",
   "execution_count": 7,
   "id": "2b9359b5",
   "metadata": {},
   "outputs": [
    {
     "data": {
      "text/html": [
       "<div>\n",
       "<style scoped>\n",
       "    .dataframe tbody tr th:only-of-type {\n",
       "        vertical-align: middle;\n",
       "    }\n",
       "\n",
       "    .dataframe tbody tr th {\n",
       "        vertical-align: top;\n",
       "    }\n",
       "\n",
       "    .dataframe thead th {\n",
       "        text-align: right;\n",
       "    }\n",
       "</style>\n",
       "<table border=\"1\" class=\"dataframe\">\n",
       "  <thead>\n",
       "    <tr style=\"text-align: right;\">\n",
       "      <th></th>\n",
       "      <th>Person ID</th>\n",
       "      <th>Gender</th>\n",
       "      <th>Age</th>\n",
       "      <th>Occupation</th>\n",
       "      <th>Sleep Duration</th>\n",
       "      <th>Quality of Sleep</th>\n",
       "      <th>Physical Activity Level</th>\n",
       "      <th>Stress Level</th>\n",
       "      <th>BMI Category</th>\n",
       "      <th>Blood Pressure</th>\n",
       "      <th>Heart Rate</th>\n",
       "      <th>Daily Steps</th>\n",
       "      <th>Sleep Disorder</th>\n",
       "    </tr>\n",
       "  </thead>\n",
       "  <tbody>\n",
       "    <tr>\n",
       "      <th>0</th>\n",
       "      <td>1</td>\n",
       "      <td>Male</td>\n",
       "      <td>27</td>\n",
       "      <td>Software Engineer</td>\n",
       "      <td>6.1</td>\n",
       "      <td>6</td>\n",
       "      <td>42</td>\n",
       "      <td>6</td>\n",
       "      <td>Overweight</td>\n",
       "      <td>126/83</td>\n",
       "      <td>77</td>\n",
       "      <td>4200</td>\n",
       "      <td>None</td>\n",
       "    </tr>\n",
       "    <tr>\n",
       "      <th>1</th>\n",
       "      <td>2</td>\n",
       "      <td>Male</td>\n",
       "      <td>28</td>\n",
       "      <td>Doctor</td>\n",
       "      <td>6.2</td>\n",
       "      <td>6</td>\n",
       "      <td>60</td>\n",
       "      <td>8</td>\n",
       "      <td>Normal</td>\n",
       "      <td>125/80</td>\n",
       "      <td>75</td>\n",
       "      <td>10000</td>\n",
       "      <td>None</td>\n",
       "    </tr>\n",
       "    <tr>\n",
       "      <th>2</th>\n",
       "      <td>3</td>\n",
       "      <td>Male</td>\n",
       "      <td>28</td>\n",
       "      <td>Doctor</td>\n",
       "      <td>6.2</td>\n",
       "      <td>6</td>\n",
       "      <td>60</td>\n",
       "      <td>8</td>\n",
       "      <td>Normal</td>\n",
       "      <td>125/80</td>\n",
       "      <td>75</td>\n",
       "      <td>10000</td>\n",
       "      <td>None</td>\n",
       "    </tr>\n",
       "    <tr>\n",
       "      <th>3</th>\n",
       "      <td>4</td>\n",
       "      <td>Male</td>\n",
       "      <td>28</td>\n",
       "      <td>Sales Representative</td>\n",
       "      <td>5.9</td>\n",
       "      <td>4</td>\n",
       "      <td>30</td>\n",
       "      <td>8</td>\n",
       "      <td>Obese</td>\n",
       "      <td>140/90</td>\n",
       "      <td>85</td>\n",
       "      <td>3000</td>\n",
       "      <td>Sleep Apnea</td>\n",
       "    </tr>\n",
       "    <tr>\n",
       "      <th>4</th>\n",
       "      <td>5</td>\n",
       "      <td>Male</td>\n",
       "      <td>28</td>\n",
       "      <td>Sales Representative</td>\n",
       "      <td>5.9</td>\n",
       "      <td>4</td>\n",
       "      <td>30</td>\n",
       "      <td>8</td>\n",
       "      <td>Obese</td>\n",
       "      <td>140/90</td>\n",
       "      <td>85</td>\n",
       "      <td>3000</td>\n",
       "      <td>Sleep Apnea</td>\n",
       "    </tr>\n",
       "  </tbody>\n",
       "</table>\n",
       "</div>"
      ],
      "text/plain": [
       "   Person ID Gender  Age            Occupation  Sleep Duration  \\\n",
       "0          1   Male   27     Software Engineer             6.1   \n",
       "1          2   Male   28                Doctor             6.2   \n",
       "2          3   Male   28                Doctor             6.2   \n",
       "3          4   Male   28  Sales Representative             5.9   \n",
       "4          5   Male   28  Sales Representative             5.9   \n",
       "\n",
       "   Quality of Sleep  Physical Activity Level  Stress Level BMI Category  \\\n",
       "0                 6                       42             6   Overweight   \n",
       "1                 6                       60             8       Normal   \n",
       "2                 6                       60             8       Normal   \n",
       "3                 4                       30             8        Obese   \n",
       "4                 4                       30             8        Obese   \n",
       "\n",
       "  Blood Pressure  Heart Rate  Daily Steps Sleep Disorder  \n",
       "0         126/83          77         4200           None  \n",
       "1         125/80          75        10000           None  \n",
       "2         125/80          75        10000           None  \n",
       "3         140/90          85         3000    Sleep Apnea  \n",
       "4         140/90          85         3000    Sleep Apnea  "
      ]
     },
     "execution_count": 7,
     "metadata": {},
     "output_type": "execute_result"
    }
   ],
   "source": [
    "shl = pd.read_csv('ss.csv')\n",
    "shl.head()"
   ]
  },
  {
   "cell_type": "markdown",
   "id": "15a5b1a3",
   "metadata": {},
   "source": [
    "#### Let's chek for the shape, duplicates, missing values, statistical measures and some other things about the dataset"
   ]
  },
  {
   "cell_type": "code",
   "execution_count": 8,
   "id": "9333d880",
   "metadata": {},
   "outputs": [
    {
     "data": {
      "text/plain": [
       "(373, 13)"
      ]
     },
     "execution_count": 8,
     "metadata": {},
     "output_type": "execute_result"
    }
   ],
   "source": [
    "shl.shape"
   ]
  },
  {
   "cell_type": "code",
   "execution_count": 10,
   "id": "5de68a2b",
   "metadata": {},
   "outputs": [
    {
     "data": {
      "text/plain": [
       "0"
      ]
     },
     "execution_count": 10,
     "metadata": {},
     "output_type": "execute_result"
    }
   ],
   "source": [
    "shl.duplicated().sum()"
   ]
  },
  {
   "cell_type": "code",
   "execution_count": 11,
   "id": "efa4729c",
   "metadata": {},
   "outputs": [
    {
     "data": {
      "text/plain": [
       "Person ID                  0\n",
       "Gender                     0\n",
       "Age                        0\n",
       "Occupation                 0\n",
       "Sleep Duration             0\n",
       "Quality of Sleep           0\n",
       "Physical Activity Level    0\n",
       "Stress Level               0\n",
       "BMI Category               0\n",
       "Blood Pressure             0\n",
       "Heart Rate                 0\n",
       "Daily Steps                0\n",
       "Sleep Disorder             0\n",
       "dtype: int64"
      ]
     },
     "execution_count": 11,
     "metadata": {},
     "output_type": "execute_result"
    }
   ],
   "source": [
    "shl.isna().sum()"
   ]
  },
  {
   "cell_type": "code",
   "execution_count": 12,
   "id": "3e2d384f",
   "metadata": {},
   "outputs": [
    {
     "data": {
      "text/html": [
       "<div>\n",
       "<style scoped>\n",
       "    .dataframe tbody tr th:only-of-type {\n",
       "        vertical-align: middle;\n",
       "    }\n",
       "\n",
       "    .dataframe tbody tr th {\n",
       "        vertical-align: top;\n",
       "    }\n",
       "\n",
       "    .dataframe thead th {\n",
       "        text-align: right;\n",
       "    }\n",
       "</style>\n",
       "<table border=\"1\" class=\"dataframe\">\n",
       "  <thead>\n",
       "    <tr style=\"text-align: right;\">\n",
       "      <th></th>\n",
       "      <th>Person ID</th>\n",
       "      <th>Age</th>\n",
       "      <th>Sleep Duration</th>\n",
       "      <th>Quality of Sleep</th>\n",
       "      <th>Physical Activity Level</th>\n",
       "      <th>Stress Level</th>\n",
       "      <th>Heart Rate</th>\n",
       "      <th>Daily Steps</th>\n",
       "    </tr>\n",
       "  </thead>\n",
       "  <tbody>\n",
       "    <tr>\n",
       "      <th>count</th>\n",
       "      <td>373.000000</td>\n",
       "      <td>373.000000</td>\n",
       "      <td>373.000000</td>\n",
       "      <td>373.000000</td>\n",
       "      <td>373.000000</td>\n",
       "      <td>373.000000</td>\n",
       "      <td>373.000000</td>\n",
       "      <td>373.000000</td>\n",
       "    </tr>\n",
       "    <tr>\n",
       "      <th>mean</th>\n",
       "      <td>187.000000</td>\n",
       "      <td>42.139410</td>\n",
       "      <td>7.129491</td>\n",
       "      <td>7.308311</td>\n",
       "      <td>59.128686</td>\n",
       "      <td>5.391421</td>\n",
       "      <td>70.171582</td>\n",
       "      <td>6816.353887</td>\n",
       "    </tr>\n",
       "    <tr>\n",
       "      <th>std</th>\n",
       "      <td>107.820066</td>\n",
       "      <td>8.640793</td>\n",
       "      <td>0.795139</td>\n",
       "      <td>1.195359</td>\n",
       "      <td>20.842589</td>\n",
       "      <td>1.772590</td>\n",
       "      <td>4.139704</td>\n",
       "      <td>1620.060932</td>\n",
       "    </tr>\n",
       "    <tr>\n",
       "      <th>min</th>\n",
       "      <td>1.000000</td>\n",
       "      <td>27.000000</td>\n",
       "      <td>5.800000</td>\n",
       "      <td>4.000000</td>\n",
       "      <td>30.000000</td>\n",
       "      <td>3.000000</td>\n",
       "      <td>65.000000</td>\n",
       "      <td>3000.000000</td>\n",
       "    </tr>\n",
       "    <tr>\n",
       "      <th>25%</th>\n",
       "      <td>94.000000</td>\n",
       "      <td>35.000000</td>\n",
       "      <td>6.400000</td>\n",
       "      <td>6.000000</td>\n",
       "      <td>45.000000</td>\n",
       "      <td>4.000000</td>\n",
       "      <td>68.000000</td>\n",
       "      <td>5600.000000</td>\n",
       "    </tr>\n",
       "    <tr>\n",
       "      <th>50%</th>\n",
       "      <td>187.000000</td>\n",
       "      <td>43.000000</td>\n",
       "      <td>7.200000</td>\n",
       "      <td>7.000000</td>\n",
       "      <td>60.000000</td>\n",
       "      <td>5.000000</td>\n",
       "      <td>70.000000</td>\n",
       "      <td>7000.000000</td>\n",
       "    </tr>\n",
       "    <tr>\n",
       "      <th>75%</th>\n",
       "      <td>280.000000</td>\n",
       "      <td>50.000000</td>\n",
       "      <td>7.800000</td>\n",
       "      <td>8.000000</td>\n",
       "      <td>75.000000</td>\n",
       "      <td>7.000000</td>\n",
       "      <td>72.000000</td>\n",
       "      <td>8000.000000</td>\n",
       "    </tr>\n",
       "    <tr>\n",
       "      <th>max</th>\n",
       "      <td>373.000000</td>\n",
       "      <td>59.000000</td>\n",
       "      <td>8.500000</td>\n",
       "      <td>9.000000</td>\n",
       "      <td>90.000000</td>\n",
       "      <td>8.000000</td>\n",
       "      <td>86.000000</td>\n",
       "      <td>10000.000000</td>\n",
       "    </tr>\n",
       "  </tbody>\n",
       "</table>\n",
       "</div>"
      ],
      "text/plain": [
       "        Person ID         Age  Sleep Duration  Quality of Sleep  \\\n",
       "count  373.000000  373.000000      373.000000        373.000000   \n",
       "mean   187.000000   42.139410        7.129491          7.308311   \n",
       "std    107.820066    8.640793        0.795139          1.195359   \n",
       "min      1.000000   27.000000        5.800000          4.000000   \n",
       "25%     94.000000   35.000000        6.400000          6.000000   \n",
       "50%    187.000000   43.000000        7.200000          7.000000   \n",
       "75%    280.000000   50.000000        7.800000          8.000000   \n",
       "max    373.000000   59.000000        8.500000          9.000000   \n",
       "\n",
       "       Physical Activity Level  Stress Level  Heart Rate   Daily Steps  \n",
       "count               373.000000    373.000000  373.000000    373.000000  \n",
       "mean                 59.128686      5.391421   70.171582   6816.353887  \n",
       "std                  20.842589      1.772590    4.139704   1620.060932  \n",
       "min                  30.000000      3.000000   65.000000   3000.000000  \n",
       "25%                  45.000000      4.000000   68.000000   5600.000000  \n",
       "50%                  60.000000      5.000000   70.000000   7000.000000  \n",
       "75%                  75.000000      7.000000   72.000000   8000.000000  \n",
       "max                  90.000000      8.000000   86.000000  10000.000000  "
      ]
     },
     "execution_count": 12,
     "metadata": {},
     "output_type": "execute_result"
    }
   ],
   "source": [
    "shl.describe()"
   ]
  },
  {
   "cell_type": "code",
   "execution_count": 13,
   "id": "caaf384c",
   "metadata": {},
   "outputs": [
    {
     "name": "stdout",
     "output_type": "stream",
     "text": [
      "<class 'pandas.core.frame.DataFrame'>\n",
      "RangeIndex: 373 entries, 0 to 372\n",
      "Data columns (total 13 columns):\n",
      " #   Column                   Non-Null Count  Dtype  \n",
      "---  ------                   --------------  -----  \n",
      " 0   Person ID                373 non-null    int64  \n",
      " 1   Gender                   373 non-null    object \n",
      " 2   Age                      373 non-null    int64  \n",
      " 3   Occupation               373 non-null    object \n",
      " 4   Sleep Duration           373 non-null    float64\n",
      " 5   Quality of Sleep         373 non-null    int64  \n",
      " 6   Physical Activity Level  373 non-null    int64  \n",
      " 7   Stress Level             373 non-null    int64  \n",
      " 8   BMI Category             373 non-null    object \n",
      " 9   Blood Pressure           373 non-null    object \n",
      " 10  Heart Rate               373 non-null    int64  \n",
      " 11  Daily Steps              373 non-null    int64  \n",
      " 12  Sleep Disorder           373 non-null    object \n",
      "dtypes: float64(1), int64(7), object(5)\n",
      "memory usage: 38.0+ KB\n"
     ]
    }
   ],
   "source": [
    "shl.info()"
   ]
  },
  {
   "cell_type": "markdown",
   "id": "d2132f05",
   "metadata": {},
   "source": [
    "<a id='Data Assesment Outcome'></a>\n",
    "### Data Assesment Outcome\n",
    "There is no issue with the data set, it's good for EDA"
   ]
  },
  {
   "cell_type": "markdown",
   "id": "a6c9d4df",
   "metadata": {},
   "source": [
    "<a id='eda'></a>\n",
    "## Exploratory Data Analysis\n",
    "> **Tip** Here we'll perform some analysis on the cleaned data, using statistical computation and different visualizations to represent our findings.\n",
    "\n"
   ]
  },
  {
   "cell_type": "code",
   "execution_count": 17,
   "id": "9d1d30d7",
   "metadata": {},
   "outputs": [],
   "source": [
    "shl1 = shl.copy() #Make a copy of the dataset"
   ]
  },
  {
   "cell_type": "code",
   "execution_count": 19,
   "id": "8e8f9739",
   "metadata": {},
   "outputs": [
    {
     "data": {
      "text/html": [
       "<div>\n",
       "<style scoped>\n",
       "    .dataframe tbody tr th:only-of-type {\n",
       "        vertical-align: middle;\n",
       "    }\n",
       "\n",
       "    .dataframe tbody tr th {\n",
       "        vertical-align: top;\n",
       "    }\n",
       "\n",
       "    .dataframe thead th {\n",
       "        text-align: right;\n",
       "    }\n",
       "</style>\n",
       "<table border=\"1\" class=\"dataframe\">\n",
       "  <thead>\n",
       "    <tr style=\"text-align: right;\">\n",
       "      <th></th>\n",
       "      <th>Gender</th>\n",
       "      <th>Age</th>\n",
       "      <th>Occupation</th>\n",
       "      <th>Sleep Duration</th>\n",
       "      <th>Quality of Sleep</th>\n",
       "      <th>Stress Level</th>\n",
       "      <th>Sleep Disorder</th>\n",
       "    </tr>\n",
       "  </thead>\n",
       "  <tbody>\n",
       "    <tr>\n",
       "      <th>0</th>\n",
       "      <td>Male</td>\n",
       "      <td>27</td>\n",
       "      <td>Software Engineer</td>\n",
       "      <td>6.1</td>\n",
       "      <td>6</td>\n",
       "      <td>6</td>\n",
       "      <td>None</td>\n",
       "    </tr>\n",
       "    <tr>\n",
       "      <th>1</th>\n",
       "      <td>Male</td>\n",
       "      <td>28</td>\n",
       "      <td>Doctor</td>\n",
       "      <td>6.2</td>\n",
       "      <td>6</td>\n",
       "      <td>8</td>\n",
       "      <td>None</td>\n",
       "    </tr>\n",
       "    <tr>\n",
       "      <th>2</th>\n",
       "      <td>Male</td>\n",
       "      <td>28</td>\n",
       "      <td>Doctor</td>\n",
       "      <td>6.2</td>\n",
       "      <td>6</td>\n",
       "      <td>8</td>\n",
       "      <td>None</td>\n",
       "    </tr>\n",
       "    <tr>\n",
       "      <th>3</th>\n",
       "      <td>Male</td>\n",
       "      <td>28</td>\n",
       "      <td>Sales Representative</td>\n",
       "      <td>5.9</td>\n",
       "      <td>4</td>\n",
       "      <td>8</td>\n",
       "      <td>Sleep Apnea</td>\n",
       "    </tr>\n",
       "    <tr>\n",
       "      <th>4</th>\n",
       "      <td>Male</td>\n",
       "      <td>28</td>\n",
       "      <td>Sales Representative</td>\n",
       "      <td>5.9</td>\n",
       "      <td>4</td>\n",
       "      <td>8</td>\n",
       "      <td>Sleep Apnea</td>\n",
       "    </tr>\n",
       "  </tbody>\n",
       "</table>\n",
       "</div>"
      ],
      "text/plain": [
       "  Gender  Age            Occupation  Sleep Duration  Quality of Sleep  \\\n",
       "0   Male   27     Software Engineer             6.1                 6   \n",
       "1   Male   28                Doctor             6.2                 6   \n",
       "2   Male   28                Doctor             6.2                 6   \n",
       "3   Male   28  Sales Representative             5.9                 4   \n",
       "4   Male   28  Sales Representative             5.9                 4   \n",
       "\n",
       "   Stress Level Sleep Disorder  \n",
       "0             6           None  \n",
       "1             8           None  \n",
       "2             8           None  \n",
       "3             8    Sleep Apnea  \n",
       "4             8    Sleep Apnea  "
      ]
     },
     "execution_count": 19,
     "metadata": {},
     "output_type": "execute_result"
    }
   ],
   "source": [
    "#Let's select the columns we'll be working with\n",
    "shl2 = shl1[['Gender','Age','Occupation','Sleep Duration','Quality of Sleep', 'Stress Level','Sleep Disorder']]\n",
    "shl2.head()"
   ]
  },
  {
   "cell_type": "code",
   "execution_count": 67,
   "id": "0db1aef3",
   "metadata": {},
   "outputs": [
    {
     "data": {
      "text/html": [
       "<div>\n",
       "<style scoped>\n",
       "    .dataframe tbody tr th:only-of-type {\n",
       "        vertical-align: middle;\n",
       "    }\n",
       "\n",
       "    .dataframe tbody tr th {\n",
       "        vertical-align: top;\n",
       "    }\n",
       "\n",
       "    .dataframe thead th {\n",
       "        text-align: right;\n",
       "    }\n",
       "</style>\n",
       "<table border=\"1\" class=\"dataframe\">\n",
       "  <thead>\n",
       "    <tr style=\"text-align: right;\">\n",
       "      <th></th>\n",
       "      <th>Gender</th>\n",
       "      <th>Age</th>\n",
       "      <th>Occupation</th>\n",
       "      <th>Sleep Duration</th>\n",
       "      <th>Quality of Sleep</th>\n",
       "      <th>Stress Level</th>\n",
       "      <th>Sleep Disorder</th>\n",
       "    </tr>\n",
       "  </thead>\n",
       "  <tbody>\n",
       "    <tr>\n",
       "      <th>149</th>\n",
       "      <td>Female</td>\n",
       "      <td>39</td>\n",
       "      <td>Accountant</td>\n",
       "      <td>8.0</td>\n",
       "      <td>9</td>\n",
       "      <td>3</td>\n",
       "      <td>None</td>\n",
       "    </tr>\n",
       "    <tr>\n",
       "      <th>150</th>\n",
       "      <td>Female</td>\n",
       "      <td>39</td>\n",
       "      <td>Accountant</td>\n",
       "      <td>8.0</td>\n",
       "      <td>9</td>\n",
       "      <td>3</td>\n",
       "      <td>None</td>\n",
       "    </tr>\n",
       "    <tr>\n",
       "      <th>276</th>\n",
       "      <td>Male</td>\n",
       "      <td>49</td>\n",
       "      <td>Doctor</td>\n",
       "      <td>8.1</td>\n",
       "      <td>9</td>\n",
       "      <td>3</td>\n",
       "      <td>Sleep Apnea</td>\n",
       "    </tr>\n",
       "    <tr>\n",
       "      <th>277</th>\n",
       "      <td>Male</td>\n",
       "      <td>49</td>\n",
       "      <td>Doctor</td>\n",
       "      <td>8.1</td>\n",
       "      <td>9</td>\n",
       "      <td>3</td>\n",
       "      <td>Sleep Apnea</td>\n",
       "    </tr>\n",
       "    <tr>\n",
       "      <th>279</th>\n",
       "      <td>Female</td>\n",
       "      <td>50</td>\n",
       "      <td>Engineer</td>\n",
       "      <td>8.3</td>\n",
       "      <td>9</td>\n",
       "      <td>3</td>\n",
       "      <td>None</td>\n",
       "    </tr>\n",
       "    <tr>\n",
       "      <th>298</th>\n",
       "      <td>Female</td>\n",
       "      <td>51</td>\n",
       "      <td>Engineer</td>\n",
       "      <td>8.5</td>\n",
       "      <td>9</td>\n",
       "      <td>3</td>\n",
       "      <td>None</td>\n",
       "    </tr>\n",
       "    <tr>\n",
       "      <th>299</th>\n",
       "      <td>Female</td>\n",
       "      <td>51</td>\n",
       "      <td>Engineer</td>\n",
       "      <td>8.5</td>\n",
       "      <td>9</td>\n",
       "      <td>3</td>\n",
       "      <td>None</td>\n",
       "    </tr>\n",
       "    <tr>\n",
       "      <th>300</th>\n",
       "      <td>Female</td>\n",
       "      <td>51</td>\n",
       "      <td>Engineer</td>\n",
       "      <td>8.5</td>\n",
       "      <td>9</td>\n",
       "      <td>3</td>\n",
       "      <td>None</td>\n",
       "    </tr>\n",
       "    <tr>\n",
       "      <th>301</th>\n",
       "      <td>Female</td>\n",
       "      <td>51</td>\n",
       "      <td>Engineer</td>\n",
       "      <td>8.5</td>\n",
       "      <td>9</td>\n",
       "      <td>3</td>\n",
       "      <td>None</td>\n",
       "    </tr>\n",
       "    <tr>\n",
       "      <th>312</th>\n",
       "      <td>Female</td>\n",
       "      <td>52</td>\n",
       "      <td>Engineer</td>\n",
       "      <td>8.4</td>\n",
       "      <td>9</td>\n",
       "      <td>3</td>\n",
       "      <td>None</td>\n",
       "    </tr>\n",
       "  </tbody>\n",
       "</table>\n",
       "</div>"
      ],
      "text/plain": [
       "     Gender  Age  Occupation  Sleep Duration  Quality of Sleep  Stress Level  \\\n",
       "149  Female   39  Accountant             8.0                 9             3   \n",
       "150  Female   39  Accountant             8.0                 9             3   \n",
       "276    Male   49      Doctor             8.1                 9             3   \n",
       "277    Male   49      Doctor             8.1                 9             3   \n",
       "279  Female   50    Engineer             8.3                 9             3   \n",
       "298  Female   51    Engineer             8.5                 9             3   \n",
       "299  Female   51    Engineer             8.5                 9             3   \n",
       "300  Female   51    Engineer             8.5                 9             3   \n",
       "301  Female   51    Engineer             8.5                 9             3   \n",
       "312  Female   52    Engineer             8.4                 9             3   \n",
       "\n",
       "    Sleep Disorder  \n",
       "149           None  \n",
       "150           None  \n",
       "276    Sleep Apnea  \n",
       "277    Sleep Apnea  \n",
       "279           None  \n",
       "298           None  \n",
       "299           None  \n",
       "300           None  \n",
       "301           None  \n",
       "312           None  "
      ]
     },
     "execution_count": 67,
     "metadata": {},
     "output_type": "execute_result"
    }
   ],
   "source": [
    "#Let's check for the top 10 occupations with good quality of sleep\n",
    "shl2[shl2['Quality of Sleep']>8].head(10)"
   ]
  },
  {
   "cell_type": "code",
   "execution_count": 70,
   "id": "8f68d9f6",
   "metadata": {
    "scrolled": true
   },
   "outputs": [
    {
     "data": {
      "text/html": [
       "<style  type=\"text/css\" >\n",
       "#T_f7291_row0_col2,#T_f7291_row1_col2,#T_f7291_row2_col2,#T_f7291_row3_col2,#T_f7291_row4_col2{\n",
       "            background-color:  #f7fcfd;\n",
       "            color:  #000000;\n",
       "        }#T_f7291_row5_col2,#T_f7291_row6_col2,#T_f7291_row7_col2,#T_f7291_row8_col2,#T_f7291_row9_col2{\n",
       "            background-color:  #4d004b;\n",
       "            color:  #f1f1f1;\n",
       "        }</style><table id=\"T_f7291_\" ><thead>    <tr>        <th class=\"blank level0\" ></th>        <th class=\"col_heading level0 col0\" >Gender</th>        <th class=\"col_heading level0 col1\" >Occupation</th>        <th class=\"col_heading level0 col2\" >Quality of Sleep</th>        <th class=\"col_heading level0 col3\" >Stress Level</th>        <th class=\"col_heading level0 col4\" >Sleep Disorder</th>    </tr></thead><tbody>\n",
       "                <tr>\n",
       "                        <th id=\"T_f7291_level0_row0\" class=\"row_heading level0 row0\" >80</th>\n",
       "                        <td id=\"T_f7291_row0_col0\" class=\"data row0 col0\" >Female</td>\n",
       "                        <td id=\"T_f7291_row0_col1\" class=\"data row0 col1\" >Scientist</td>\n",
       "                        <td id=\"T_f7291_row0_col2\" class=\"data row0 col2\" >4</td>\n",
       "                        <td id=\"T_f7291_row0_col3\" class=\"data row0 col3\" >8</td>\n",
       "                        <td id=\"T_f7291_row0_col4\" class=\"data row0 col4\" >Sleep Apnea</td>\n",
       "            </tr>\n",
       "            <tr>\n",
       "                        <th id=\"T_f7291_level0_row1\" class=\"row_heading level0 row1\" >3</th>\n",
       "                        <td id=\"T_f7291_row1_col0\" class=\"data row1 col0\" >Male</td>\n",
       "                        <td id=\"T_f7291_row1_col1\" class=\"data row1 col1\" >Sales Representative</td>\n",
       "                        <td id=\"T_f7291_row1_col2\" class=\"data row1 col2\" >4</td>\n",
       "                        <td id=\"T_f7291_row1_col3\" class=\"data row1 col3\" >8</td>\n",
       "                        <td id=\"T_f7291_row1_col4\" class=\"data row1 col4\" >Sleep Apnea</td>\n",
       "            </tr>\n",
       "            <tr>\n",
       "                        <th id=\"T_f7291_level0_row2\" class=\"row_heading level0 row2\" >4</th>\n",
       "                        <td id=\"T_f7291_row2_col0\" class=\"data row2 col0\" >Male</td>\n",
       "                        <td id=\"T_f7291_row2_col1\" class=\"data row2 col1\" >Sales Representative</td>\n",
       "                        <td id=\"T_f7291_row2_col2\" class=\"data row2 col2\" >4</td>\n",
       "                        <td id=\"T_f7291_row2_col3\" class=\"data row2 col3\" >8</td>\n",
       "                        <td id=\"T_f7291_row2_col4\" class=\"data row2 col4\" >Sleep Apnea</td>\n",
       "            </tr>\n",
       "            <tr>\n",
       "                        <th id=\"T_f7291_level0_row3\" class=\"row_heading level0 row3\" >5</th>\n",
       "                        <td id=\"T_f7291_row3_col0\" class=\"data row3 col0\" >Male</td>\n",
       "                        <td id=\"T_f7291_row3_col1\" class=\"data row3 col1\" >Software Engineer</td>\n",
       "                        <td id=\"T_f7291_row3_col2\" class=\"data row3 col2\" >4</td>\n",
       "                        <td id=\"T_f7291_row3_col3\" class=\"data row3 col3\" >8</td>\n",
       "                        <td id=\"T_f7291_row3_col4\" class=\"data row3 col4\" >Insomnia</td>\n",
       "            </tr>\n",
       "            <tr>\n",
       "                        <th id=\"T_f7291_level0_row4\" class=\"row_heading level0 row4\" >81</th>\n",
       "                        <td id=\"T_f7291_row4_col0\" class=\"data row4 col0\" >Female</td>\n",
       "                        <td id=\"T_f7291_row4_col1\" class=\"data row4 col1\" >Scientist</td>\n",
       "                        <td id=\"T_f7291_row4_col2\" class=\"data row4 col2\" >4</td>\n",
       "                        <td id=\"T_f7291_row4_col3\" class=\"data row4 col3\" >8</td>\n",
       "                        <td id=\"T_f7291_row4_col4\" class=\"data row4 col4\" >Sleep Apnea</td>\n",
       "            </tr>\n",
       "            <tr>\n",
       "                        <th id=\"T_f7291_level0_row5\" class=\"row_heading level0 row5\" >18</th>\n",
       "                        <td id=\"T_f7291_row5_col0\" class=\"data row5 col0\" >Female</td>\n",
       "                        <td id=\"T_f7291_row5_col1\" class=\"data row5 col1\" >Nurse</td>\n",
       "                        <td id=\"T_f7291_row5_col2\" class=\"data row5 col2\" >5</td>\n",
       "                        <td id=\"T_f7291_row5_col3\" class=\"data row5 col3\" >7</td>\n",
       "                        <td id=\"T_f7291_row5_col4\" class=\"data row5 col4\" >Insomnia</td>\n",
       "            </tr>\n",
       "            <tr>\n",
       "                        <th id=\"T_f7291_level0_row6\" class=\"row_heading level0 row6\" >31</th>\n",
       "                        <td id=\"T_f7291_row6_col0\" class=\"data row6 col0\" >Female</td>\n",
       "                        <td id=\"T_f7291_row6_col1\" class=\"data row6 col1\" >Nurse</td>\n",
       "                        <td id=\"T_f7291_row6_col2\" class=\"data row6 col2\" >5</td>\n",
       "                        <td id=\"T_f7291_row6_col3\" class=\"data row6 col3\" >7</td>\n",
       "                        <td id=\"T_f7291_row6_col4\" class=\"data row6 col4\" >Insomnia</td>\n",
       "            </tr>\n",
       "            <tr>\n",
       "                        <th id=\"T_f7291_level0_row7\" class=\"row_heading level0 row7\" >30</th>\n",
       "                        <td id=\"T_f7291_row7_col0\" class=\"data row7 col0\" >Female</td>\n",
       "                        <td id=\"T_f7291_row7_col1\" class=\"data row7 col1\" >Nurse</td>\n",
       "                        <td id=\"T_f7291_row7_col2\" class=\"data row7 col2\" >5</td>\n",
       "                        <td id=\"T_f7291_row7_col3\" class=\"data row7 col3\" >7</td>\n",
       "                        <td id=\"T_f7291_row7_col4\" class=\"data row7 col4\" >Sleep Apnea</td>\n",
       "            </tr>\n",
       "            <tr>\n",
       "                        <th id=\"T_f7291_level0_row8\" class=\"row_heading level0 row8\" >16</th>\n",
       "                        <td id=\"T_f7291_row8_col0\" class=\"data row8 col0\" >Female</td>\n",
       "                        <td id=\"T_f7291_row8_col1\" class=\"data row8 col1\" >Nurse</td>\n",
       "                        <td id=\"T_f7291_row8_col2\" class=\"data row8 col2\" >5</td>\n",
       "                        <td id=\"T_f7291_row8_col3\" class=\"data row8 col3\" >7</td>\n",
       "                        <td id=\"T_f7291_row8_col4\" class=\"data row8 col4\" >Sleep Apnea</td>\n",
       "            </tr>\n",
       "            <tr>\n",
       "                        <th id=\"T_f7291_level0_row9\" class=\"row_heading level0 row9\" >147</th>\n",
       "                        <td id=\"T_f7291_row9_col0\" class=\"data row9 col0\" >Male</td>\n",
       "                        <td id=\"T_f7291_row9_col1\" class=\"data row9 col1\" >Engineer</td>\n",
       "                        <td id=\"T_f7291_row9_col2\" class=\"data row9 col2\" >5</td>\n",
       "                        <td id=\"T_f7291_row9_col3\" class=\"data row9 col3\" >7</td>\n",
       "                        <td id=\"T_f7291_row9_col4\" class=\"data row9 col4\" >Insomnia</td>\n",
       "            </tr>\n",
       "    </tbody></table>"
      ],
      "text/plain": [
       "<pandas.io.formats.style.Styler at 0x173096f6a30>"
      ]
     },
     "execution_count": 70,
     "metadata": {},
     "output_type": "execute_result"
    }
   ],
   "source": [
    "#Occupations with lowest Quality of sleep\n",
    "shl2[['Gender','Occupation','Quality of Sleep','Stress Level','Sleep Disorder']].sort_values(['Quality of Sleep'], ascending=True).head(10).style.background_gradient(subset='Quality of Sleep', cmap='BuPu')"
   ]
  },
  {
   "cell_type": "code",
   "execution_count": 31,
   "id": "d0907a68",
   "metadata": {},
   "outputs": [
    {
     "data": {
      "text/plain": [
       "Male      189\n",
       "Female    184\n",
       "Name: Gender, dtype: int64"
      ]
     },
     "execution_count": 31,
     "metadata": {},
     "output_type": "execute_result"
    }
   ],
   "source": [
    "shl2['Gender'].value_counts()"
   ]
  },
  {
   "cell_type": "code",
   "execution_count": 41,
   "id": "759b167a",
   "metadata": {},
   "outputs": [
    {
     "data": {
      "image/png": "[encoded data removed]",
      "text/plain": [
       "<Figure size 432x288 with 1 Axes>"
      ]
     },
     "metadata": {
      "needs_background": "light"
     },
     "output_type": "display_data"
    }
   ],
   "source": [
    "# Let's the gender distribution\n",
    "Male = len(shl2[shl2['Gender'] == 'Male'])\n",
    "Female = len(shl2[shl2['Gender'] == 'Female'])\n",
    "\n",
    "# Create a bar chart\n",
    "sns.histplot(x=['Male', 'Female'], y=[Male, Female])\n",
    "plt.title('Gender Distribution')\n",
    "plt.show()"
   ]
  },
  {
   "cell_type": "code",
   "execution_count": 43,
   "id": "fee03a7c",
   "metadata": {},
   "outputs": [
    {
     "data": {
      "image/png": "[encoded data removed]",
      "text/plain": [
       "<Figure size 432.125x360 with 1 Axes>"
      ]
     },
     "metadata": {
      "needs_background": "light"
     },
     "output_type": "display_data"
    }
   ],
   "source": [
    "# Let's create a plot to show the relationship between Age, Gender, and Quality of Sleep\n",
    "sns.relplot(x='Quality of Sleep', y='Age', data=shl2, hue='Gender')  # Color by Gender\n",
    "\n",
    "# Add labels and title\n",
    "plt.xlabel(\"Quality of Sleep\")\n",
    "plt.ylabel(\"Age\")\n",
    "plt.title(\"Relationship between Age, Gender, and Quality of Sleep\")\n",
    "plt.show()"
   ]
  },
  {
   "cell_type": "code",
   "execution_count": 44,
   "id": "72a00bf2",
   "metadata": {},
   "outputs": [
    {
     "data": {
      "image/png": "[encoded data removed]",
      "text/plain": [
       "<Figure size 501x360 with 1 Axes>"
      ]
     },
     "metadata": {
      "needs_background": "light"
     },
     "output_type": "display_data"
    }
   ],
   "source": [
    "# Let's create a plot to show the relationship between Age, Occupation, and Quality of Sleep\n",
    "sns.relplot(x='Quality of Sleep', y='Age', data=shl2, hue='Occupation')  # Color by Occupation\n",
    "\n",
    "# Add labels and title\n",
    "plt.xlabel(\"Quality of Sleep\")\n",
    "plt.ylabel(\"Age\")\n",
    "plt.title(\"Relationship between Age, Occupation, and Quality of Sleep\")\n",
    "plt.show()"
   ]
  },
  {
   "cell_type": "code",
   "execution_count": 45,
   "id": "a0f9cf9f",
   "metadata": {},
   "outputs": [
    {
     "data": {
      "image/png": "[encoded data removed]",
      "text/plain": [
       "<Figure size 432.125x360 with 1 Axes>"
      ]
     },
     "metadata": {
      "needs_background": "light"
     },
     "output_type": "display_data"
    }
   ],
   "source": [
    "# Let's create a plot to show the relationship between Stress Level, Gender, and Quality of Sleep\n",
    "sns.relplot(x='Quality of Sleep', y='Stress Level', data=shl2, hue='Gender')  # Color by Gender\n",
    "\n",
    "# Add labels and title\n",
    "plt.xlabel(\"Quality of Sleep\")\n",
    "plt.ylabel(\"Stress Level\")\n",
    "plt.title(\"Relationship between Stress Level, Gender, and Quality of Sleep\")\n",
    "plt.show()"
   ]
  },
  {
   "cell_type": "code",
   "execution_count": 49,
   "id": "31240ef8",
   "metadata": {
    "scrolled": true
   },
   "outputs": [
    {
     "data": {
      "image/png": "[encoded data removed]",
      "text/plain": [
       "<Figure size 432.125x360 with 1 Axes>"
      ]
     },
     "metadata": {
      "needs_background": "light"
     },
     "output_type": "display_data"
    }
   ],
   "source": [
    "# Let's create a plot to show the relationship between Age, Sleep Duration, and Gender\n",
    "sns.relplot(x='Age', y='Sleep Duration', data=shl2, hue='Gender')  # Color by Gender\n",
    "\n",
    "# Add labels and title\n",
    "plt.ylabel(\"Sleep Duration\")\n",
    "plt.xlabel(\"Age\")\n",
    "plt.title(\"Relationship between Age, Sleep Duration, and Gender\")\n",
    "plt.show()"
   ]
  },
  {
   "cell_type": "code",
   "execution_count": 50,
   "id": "d3b9e6e7",
   "metadata": {
    "scrolled": true
   },
   "outputs": [
    {
     "data": {
      "text/plain": [
       "array(['Software Engineer', 'Doctor', 'Sales Representative', 'Teacher',\n",
       "       'Nurse', 'Engineer', 'Accountant', 'Scientist', 'Lawyer',\n",
       "       'Salesperson', 'Manager'], dtype=object)"
      ]
     },
     "execution_count": 50,
     "metadata": {},
     "output_type": "execute_result"
    }
   ],
   "source": [
    "shl2['Occupation'].unique()"
   ]
  },
  {
   "cell_type": "code",
   "execution_count": 72,
   "id": "14419ecf",
   "metadata": {},
   "outputs": [
    {
     "data": {
      "image/png": "[encoded data removed]",
      "text/plain": [
       "<Figure size 432x288 with 1 Axes>"
      ]
     },
     "metadata": {
      "needs_background": "light"
     },
     "output_type": "display_data"
    }
   ],
   "source": [
    "# Let's count for Occupation and plot a histogram to represent it\n",
    "SoftwareEngineer = len(shl2[shl2['Occupation'] == 'Software Engineer'])\n",
    "Doctor = len(shl2[shl2['Occupation'] == 'Doctor'])\n",
    "SalesRepresentative = len(shl2[shl2['Occupation'] == 'Sales Representative'])\n",
    "Teacher = len(shl2[shl2['Occupation'] == 'Teacher'])\n",
    "Nurse = len(shl2[shl2['Occupation'] == 'Nurse'])\n",
    "Engineer = len(shl2[shl2['Occupation'] == 'Engineer'])\n",
    "Accountant = len(shl2[shl2['Occupation'] == 'Accountant'])\n",
    "Scientist = len(shl2[shl2['Occupation'] == 'Scientist'])\n",
    "Lawyer = len(shl2[shl2['Occupation'] == 'Lawyer'])\n",
    "Salesperson = len(shl2[shl2['Occupation'] == 'Salesperson'])\n",
    "Manager = len(shl2[shl2['Occupation'] == 'Manager'])\n",
    "\n",
    "sns.histplot(x=['Software Engineer', 'Doctor','Sales Representative','Teacher','Nurse','Engineer','Accountant','Scientist','Lawyer','Salesperson','Manager'],\n",
    "             y=[SoftwareEngineer, Doctor,SalesRepresentative,Teacher,Nurse,Engineer,Accountant,Scientist,Lawyer,Salesperson,Manager])\n",
    "plt.title('Occupation Distribution')\n",
    "plt.xlabel('Occupation')\n",
    "plt.ylabel('Occupation Count')\n",
    "plt.xticks(rotation=270)\n",
    "plt.grid(axis='y')\n",
    "plt.show()"
   ]
  },
  {
   "cell_type": "code",
   "execution_count": 79,
   "id": "a8bac246",
   "metadata": {},
   "outputs": [
    {
     "data": {
      "text/html": [
       "<style  type=\"text/css\" >\n",
       "#T_47c51_row0_col3,#T_47c51_row1_col3,#T_47c51_row2_col3,#T_47c51_row3_col3,#T_47c51_row4_col3,#T_47c51_row5_col3,#T_47c51_row6_col3,#T_47c51_row7_col3,#T_47c51_row8_col3,#T_47c51_row9_col3{\n",
       "            background-color:  #fff7fb;\n",
       "            color:  #000000;\n",
       "        }</style><table id=\"T_47c51_\" ><thead>    <tr>        <th class=\"blank level0\" ></th>        <th class=\"col_heading level0 col0\" >Gender</th>        <th class=\"col_heading level0 col1\" >Occupation</th>        <th class=\"col_heading level0 col2\" >Quality of Sleep</th>        <th class=\"col_heading level0 col3\" >Stress Level</th>        <th class=\"col_heading level0 col4\" >Sleep Disorder</th>    </tr></thead><tbody>\n",
       "                <tr>\n",
       "                        <th id=\"T_47c51_level0_row0\" class=\"row_heading level0 row0\" >273</th>\n",
       "                        <td id=\"T_47c51_row0_col0\" class=\"data row0 col0\" >Female</td>\n",
       "                        <td id=\"T_47c51_row0_col1\" class=\"data row0 col1\" >Nurse</td>\n",
       "                        <td id=\"T_47c51_row0_col2\" class=\"data row0 col2\" >6</td>\n",
       "                        <td id=\"T_47c51_row0_col3\" class=\"data row0 col3\" >8</td>\n",
       "                        <td id=\"T_47c51_row0_col4\" class=\"data row0 col4\" >Sleep Apnea</td>\n",
       "            </tr>\n",
       "            <tr>\n",
       "                        <th id=\"T_47c51_level0_row1\" class=\"row_heading level0 row1\" >289</th>\n",
       "                        <td id=\"T_47c51_row1_col0\" class=\"data row1 col0\" >Female</td>\n",
       "                        <td id=\"T_47c51_row1_col1\" class=\"data row1 col1\" >Nurse</td>\n",
       "                        <td id=\"T_47c51_row1_col2\" class=\"data row1 col2\" >6</td>\n",
       "                        <td id=\"T_47c51_row1_col3\" class=\"data row1 col3\" >8</td>\n",
       "                        <td id=\"T_47c51_row1_col4\" class=\"data row1 col4\" >Sleep Apnea</td>\n",
       "            </tr>\n",
       "            <tr>\n",
       "                        <th id=\"T_47c51_level0_row2\" class=\"row_heading level0 row2\" >77</th>\n",
       "                        <td id=\"T_47c51_row2_col0\" class=\"data row2 col0\" >Male</td>\n",
       "                        <td id=\"T_47c51_row2_col1\" class=\"data row2 col1\" >Doctor</td>\n",
       "                        <td id=\"T_47c51_row2_col2\" class=\"data row2 col2\" >6</td>\n",
       "                        <td id=\"T_47c51_row2_col3\" class=\"data row2 col3\" >8</td>\n",
       "                        <td id=\"T_47c51_row2_col4\" class=\"data row2 col4\" >None</td>\n",
       "            </tr>\n",
       "            <tr>\n",
       "                        <th id=\"T_47c51_level0_row3\" class=\"row_heading level0 row3\" >76</th>\n",
       "                        <td id=\"T_47c51_row3_col0\" class=\"data row3 col0\" >Male</td>\n",
       "                        <td id=\"T_47c51_row3_col1\" class=\"data row3 col1\" >Doctor</td>\n",
       "                        <td id=\"T_47c51_row3_col2\" class=\"data row3 col2\" >6</td>\n",
       "                        <td id=\"T_47c51_row3_col3\" class=\"data row3 col3\" >8</td>\n",
       "                        <td id=\"T_47c51_row3_col4\" class=\"data row3 col4\" >None</td>\n",
       "            </tr>\n",
       "            <tr>\n",
       "                        <th id=\"T_47c51_level0_row4\" class=\"row_heading level0 row4\" >75</th>\n",
       "                        <td id=\"T_47c51_row4_col0\" class=\"data row4 col0\" >Male</td>\n",
       "                        <td id=\"T_47c51_row4_col1\" class=\"data row4 col1\" >Doctor</td>\n",
       "                        <td id=\"T_47c51_row4_col2\" class=\"data row4 col2\" >6</td>\n",
       "                        <td id=\"T_47c51_row4_col3\" class=\"data row4 col3\" >8</td>\n",
       "                        <td id=\"T_47c51_row4_col4\" class=\"data row4 col4\" >None</td>\n",
       "            </tr>\n",
       "            <tr>\n",
       "                        <th id=\"T_47c51_level0_row5\" class=\"row_heading level0 row5\" >74</th>\n",
       "                        <td id=\"T_47c51_row5_col0\" class=\"data row5 col0\" >Male</td>\n",
       "                        <td id=\"T_47c51_row5_col1\" class=\"data row5 col1\" >Doctor</td>\n",
       "                        <td id=\"T_47c51_row5_col2\" class=\"data row5 col2\" >6</td>\n",
       "                        <td id=\"T_47c51_row5_col3\" class=\"data row5 col3\" >8</td>\n",
       "                        <td id=\"T_47c51_row5_col4\" class=\"data row5 col4\" >None</td>\n",
       "            </tr>\n",
       "            <tr>\n",
       "                        <th id=\"T_47c51_level0_row6\" class=\"row_heading level0 row6\" >73</th>\n",
       "                        <td id=\"T_47c51_row6_col0\" class=\"data row6 col0\" >Male</td>\n",
       "                        <td id=\"T_47c51_row6_col1\" class=\"data row6 col1\" >Doctor</td>\n",
       "                        <td id=\"T_47c51_row6_col2\" class=\"data row6 col2\" >6</td>\n",
       "                        <td id=\"T_47c51_row6_col3\" class=\"data row6 col3\" >8</td>\n",
       "                        <td id=\"T_47c51_row6_col4\" class=\"data row6 col4\" >None</td>\n",
       "            </tr>\n",
       "            <tr>\n",
       "                        <th id=\"T_47c51_level0_row7\" class=\"row_heading level0 row7\" >72</th>\n",
       "                        <td id=\"T_47c51_row7_col0\" class=\"data row7 col0\" >Male</td>\n",
       "                        <td id=\"T_47c51_row7_col1\" class=\"data row7 col1\" >Doctor</td>\n",
       "                        <td id=\"T_47c51_row7_col2\" class=\"data row7 col2\" >6</td>\n",
       "                        <td id=\"T_47c51_row7_col3\" class=\"data row7 col3\" >8</td>\n",
       "                        <td id=\"T_47c51_row7_col4\" class=\"data row7 col4\" >None</td>\n",
       "            </tr>\n",
       "            <tr>\n",
       "                        <th id=\"T_47c51_level0_row8\" class=\"row_heading level0 row8\" >71</th>\n",
       "                        <td id=\"T_47c51_row8_col0\" class=\"data row8 col0\" >Male</td>\n",
       "                        <td id=\"T_47c51_row8_col1\" class=\"data row8 col1\" >Doctor</td>\n",
       "                        <td id=\"T_47c51_row8_col2\" class=\"data row8 col2\" >6</td>\n",
       "                        <td id=\"T_47c51_row8_col3\" class=\"data row8 col3\" >8</td>\n",
       "                        <td id=\"T_47c51_row8_col4\" class=\"data row8 col4\" >None</td>\n",
       "            </tr>\n",
       "            <tr>\n",
       "                        <th id=\"T_47c51_level0_row9\" class=\"row_heading level0 row9\" >70</th>\n",
       "                        <td id=\"T_47c51_row9_col0\" class=\"data row9 col0\" >Male</td>\n",
       "                        <td id=\"T_47c51_row9_col1\" class=\"data row9 col1\" >Doctor</td>\n",
       "                        <td id=\"T_47c51_row9_col2\" class=\"data row9 col2\" >6</td>\n",
       "                        <td id=\"T_47c51_row9_col3\" class=\"data row9 col3\" >8</td>\n",
       "                        <td id=\"T_47c51_row9_col4\" class=\"data row9 col4\" >None</td>\n",
       "            </tr>\n",
       "    </tbody></table>"
      ],
      "text/plain": [
       "<pandas.io.formats.style.Styler at 0x173098195b0>"
      ]
     },
     "execution_count": 79,
     "metadata": {},
     "output_type": "execute_result"
    }
   ],
   "source": [
    "#let's check for occupation with high stress level\n",
    "shl2[['Gender','Occupation','Quality of Sleep','Stress Level','Sleep Disorder']].sort_values(['Stress Level'], ascending=False).head(10).style.background_gradient(subset='Stress Level', cmap='PuBu')"
   ]
  },
  {
   "cell_type": "code",
   "execution_count": 59,
   "id": "8e3f845d",
   "metadata": {},
   "outputs": [
    {
     "data": {
      "text/html": [
       "<style  type=\"text/css\" >\n",
       "#T_2ee16_row0_col3,#T_2ee16_row1_col3,#T_2ee16_row2_col3,#T_2ee16_row3_col3,#T_2ee16_row4_col3,#T_2ee16_row5_col3,#T_2ee16_row6_col3,#T_2ee16_row7_col3,#T_2ee16_row8_col3,#T_2ee16_row9_col3{\n",
       "            background-color:  #f7fcfd;\n",
       "            color:  #000000;\n",
       "        }</style><table id=\"T_2ee16_\" ><thead>    <tr>        <th class=\"blank level0\" ></th>        <th class=\"col_heading level0 col0\" >Gender</th>        <th class=\"col_heading level0 col1\" >Occupation</th>        <th class=\"col_heading level0 col2\" >Quality of Sleep</th>        <th class=\"col_heading level0 col3\" >Stress Level</th>        <th class=\"col_heading level0 col4\" >Sleep Disorder</th>    </tr></thead><tbody>\n",
       "                <tr>\n",
       "                        <th id=\"T_2ee16_level0_row0\" class=\"row_heading level0 row0\" >372</th>\n",
       "                        <td id=\"T_2ee16_row0_col0\" class=\"data row0 col0\" >Female</td>\n",
       "                        <td id=\"T_2ee16_row0_col1\" class=\"data row0 col1\" >Nurse</td>\n",
       "                        <td id=\"T_2ee16_row0_col2\" class=\"data row0 col2\" >9</td>\n",
       "                        <td id=\"T_2ee16_row0_col3\" class=\"data row0 col3\" >3</td>\n",
       "                        <td id=\"T_2ee16_row0_col4\" class=\"data row0 col4\" >Sleep Apnea</td>\n",
       "            </tr>\n",
       "            <tr>\n",
       "                        <th id=\"T_2ee16_level0_row1\" class=\"row_heading level0 row1\" >51</th>\n",
       "                        <td id=\"T_2ee16_row1_col0\" class=\"data row1 col0\" >Male</td>\n",
       "                        <td id=\"T_2ee16_row1_col1\" class=\"data row1 col1\" >Engineer</td>\n",
       "                        <td id=\"T_2ee16_row1_col2\" class=\"data row1 col2\" >8</td>\n",
       "                        <td id=\"T_2ee16_row1_col3\" class=\"data row1 col3\" >3</td>\n",
       "                        <td id=\"T_2ee16_row1_col4\" class=\"data row1 col4\" >None</td>\n",
       "            </tr>\n",
       "            <tr>\n",
       "                        <th id=\"T_2ee16_level0_row2\" class=\"row_heading level0 row2\" >50</th>\n",
       "                        <td id=\"T_2ee16_row2_col0\" class=\"data row2 col0\" >Male</td>\n",
       "                        <td id=\"T_2ee16_row2_col1\" class=\"data row2 col1\" >Engineer</td>\n",
       "                        <td id=\"T_2ee16_row2_col2\" class=\"data row2 col2\" >8</td>\n",
       "                        <td id=\"T_2ee16_row2_col3\" class=\"data row2 col3\" >3</td>\n",
       "                        <td id=\"T_2ee16_row2_col4\" class=\"data row2 col4\" >None</td>\n",
       "            </tr>\n",
       "            <tr>\n",
       "                        <th id=\"T_2ee16_level0_row3\" class=\"row_heading level0 row3\" >322</th>\n",
       "                        <td id=\"T_2ee16_row3_col0\" class=\"data row3 col0\" >Female</td>\n",
       "                        <td id=\"T_2ee16_row3_col1\" class=\"data row3 col1\" >Engineer</td>\n",
       "                        <td id=\"T_2ee16_row3_col2\" class=\"data row3 col2\" >9</td>\n",
       "                        <td id=\"T_2ee16_row3_col3\" class=\"data row3 col3\" >3</td>\n",
       "                        <td id=\"T_2ee16_row3_col4\" class=\"data row3 col4\" >None</td>\n",
       "            </tr>\n",
       "            <tr>\n",
       "                        <th id=\"T_2ee16_level0_row4\" class=\"row_heading level0 row4\" >323</th>\n",
       "                        <td id=\"T_2ee16_row4_col0\" class=\"data row4 col0\" >Female</td>\n",
       "                        <td id=\"T_2ee16_row4_col1\" class=\"data row4 col1\" >Engineer</td>\n",
       "                        <td id=\"T_2ee16_row4_col2\" class=\"data row4 col2\" >9</td>\n",
       "                        <td id=\"T_2ee16_row4_col3\" class=\"data row4 col3\" >3</td>\n",
       "                        <td id=\"T_2ee16_row4_col4\" class=\"data row4 col4\" >None</td>\n",
       "            </tr>\n",
       "            <tr>\n",
       "                        <th id=\"T_2ee16_level0_row5\" class=\"row_heading level0 row5\" >324</th>\n",
       "                        <td id=\"T_2ee16_row5_col0\" class=\"data row5 col0\" >Female</td>\n",
       "                        <td id=\"T_2ee16_row5_col1\" class=\"data row5 col1\" >Engineer</td>\n",
       "                        <td id=\"T_2ee16_row5_col2\" class=\"data row5 col2\" >9</td>\n",
       "                        <td id=\"T_2ee16_row5_col3\" class=\"data row5 col3\" >3</td>\n",
       "                        <td id=\"T_2ee16_row5_col4\" class=\"data row5 col4\" >None</td>\n",
       "            </tr>\n",
       "            <tr>\n",
       "                        <th id=\"T_2ee16_level0_row6\" class=\"row_heading level0 row6\" >325</th>\n",
       "                        <td id=\"T_2ee16_row6_col0\" class=\"data row6 col0\" >Female</td>\n",
       "                        <td id=\"T_2ee16_row6_col1\" class=\"data row6 col1\" >Engineer</td>\n",
       "                        <td id=\"T_2ee16_row6_col2\" class=\"data row6 col2\" >9</td>\n",
       "                        <td id=\"T_2ee16_row6_col3\" class=\"data row6 col3\" >3</td>\n",
       "                        <td id=\"T_2ee16_row6_col4\" class=\"data row6 col4\" >None</td>\n",
       "            </tr>\n",
       "            <tr>\n",
       "                        <th id=\"T_2ee16_level0_row7\" class=\"row_heading level0 row7\" >321</th>\n",
       "                        <td id=\"T_2ee16_row7_col0\" class=\"data row7 col0\" >Female</td>\n",
       "                        <td id=\"T_2ee16_row7_col1\" class=\"data row7 col1\" >Engineer</td>\n",
       "                        <td id=\"T_2ee16_row7_col2\" class=\"data row7 col2\" >9</td>\n",
       "                        <td id=\"T_2ee16_row7_col3\" class=\"data row7 col3\" >3</td>\n",
       "                        <td id=\"T_2ee16_row7_col4\" class=\"data row7 col4\" >None</td>\n",
       "            </tr>\n",
       "            <tr>\n",
       "                        <th id=\"T_2ee16_level0_row8\" class=\"row_heading level0 row8\" >326</th>\n",
       "                        <td id=\"T_2ee16_row8_col0\" class=\"data row8 col0\" >Female</td>\n",
       "                        <td id=\"T_2ee16_row8_col1\" class=\"data row8 col1\" >Engineer</td>\n",
       "                        <td id=\"T_2ee16_row8_col2\" class=\"data row8 col2\" >9</td>\n",
       "                        <td id=\"T_2ee16_row8_col3\" class=\"data row8 col3\" >3</td>\n",
       "                        <td id=\"T_2ee16_row8_col4\" class=\"data row8 col4\" >None</td>\n",
       "            </tr>\n",
       "            <tr>\n",
       "                        <th id=\"T_2ee16_level0_row9\" class=\"row_heading level0 row9\" >328</th>\n",
       "                        <td id=\"T_2ee16_row9_col0\" class=\"data row9 col0\" >Female</td>\n",
       "                        <td id=\"T_2ee16_row9_col1\" class=\"data row9 col1\" >Engineer</td>\n",
       "                        <td id=\"T_2ee16_row9_col2\" class=\"data row9 col2\" >9</td>\n",
       "                        <td id=\"T_2ee16_row9_col3\" class=\"data row9 col3\" >3</td>\n",
       "                        <td id=\"T_2ee16_row9_col4\" class=\"data row9 col4\" >None</td>\n",
       "            </tr>\n",
       "    </tbody></table>"
      ],
      "text/plain": [
       "<pandas.io.formats.style.Styler at 0x1730975ad00>"
      ]
     },
     "execution_count": 59,
     "metadata": {},
     "output_type": "execute_result"
    }
   ],
   "source": [
    "#let's check for occupation with low stress level\n",
    "shl2[['Gender','Occupation','Quality of Sleep','Stress Level','Sleep Disorder']].sort_values(['Stress Level'], ascending=True).head(10).style.background_gradient(subset='Stress Level', cmap='BuGn')"
   ]
  },
  {
   "cell_type": "code",
   "execution_count": 80,
   "id": "75930d39",
   "metadata": {},
   "outputs": [
    {
     "data": {
      "text/plain": [
       "<matplotlib.legend.Legend at 0x17309dc1fd0>"
      ]
     },
     "execution_count": 80,
     "metadata": {},
     "output_type": "execute_result"
    },
    {
     "data": {
      "image/png": "[encoded data removed]",
      "text/plain": [
       "<Figure size 432x288 with 1 Axes>"
      ]
     },
     "metadata": {
      "needs_background": "light"
     },
     "output_type": "display_data"
    }
   ],
   "source": [
    "#Let's check the Relationship between Sleep Disorder, Age, and Quality of Sleep\n",
    "sns.barplot(x='Quality of Sleep', y='Age', data=shl2, hue='Sleep Disorder')  # Color by Sleep Disorder\n",
    "plt.xlabel(\"Quality of Sleep\")\n",
    "plt.ylabel(\"Age\")\n",
    "plt.title(\"Relationship between Sleep Disorder, Age, and Quality of Sleep\")\n",
    "plt.legend(loc='upper left', bbox_to_anchor=(1.05, 1))"
   ]
  },
  {
   "cell_type": "code",
   "execution_count": 73,
   "id": "441f0f08",
   "metadata": {},
   "outputs": [
    {
     "data": {
      "text/html": [
       "<div>\n",
       "<style scoped>\n",
       "    .dataframe tbody tr th:only-of-type {\n",
       "        vertical-align: middle;\n",
       "    }\n",
       "\n",
       "    .dataframe tbody tr th {\n",
       "        vertical-align: top;\n",
       "    }\n",
       "\n",
       "    .dataframe thead th {\n",
       "        text-align: right;\n",
       "    }\n",
       "</style>\n",
       "<table border=\"1\" class=\"dataframe\">\n",
       "  <thead>\n",
       "    <tr style=\"text-align: right;\">\n",
       "      <th>Occupation</th>\n",
       "      <th>Accountant</th>\n",
       "      <th>Doctor</th>\n",
       "      <th>Engineer</th>\n",
       "      <th>Lawyer</th>\n",
       "      <th>Manager</th>\n",
       "      <th>Nurse</th>\n",
       "      <th>Sales Representative</th>\n",
       "      <th>Salesperson</th>\n",
       "      <th>Scientist</th>\n",
       "      <th>Software Engineer</th>\n",
       "      <th>Teacher</th>\n",
       "    </tr>\n",
       "    <tr>\n",
       "      <th>Gender</th>\n",
       "      <th></th>\n",
       "      <th></th>\n",
       "      <th></th>\n",
       "      <th></th>\n",
       "      <th></th>\n",
       "      <th></th>\n",
       "      <th></th>\n",
       "      <th></th>\n",
       "      <th></th>\n",
       "      <th></th>\n",
       "      <th></th>\n",
       "    </tr>\n",
       "  </thead>\n",
       "  <tbody>\n",
       "    <tr>\n",
       "      <th>Female</th>\n",
       "      <td>36</td>\n",
       "      <td>2</td>\n",
       "      <td>32</td>\n",
       "      <td>2</td>\n",
       "      <td>1</td>\n",
       "      <td>72</td>\n",
       "      <td>0</td>\n",
       "      <td>0</td>\n",
       "      <td>4</td>\n",
       "      <td>0</td>\n",
       "      <td>35</td>\n",
       "    </tr>\n",
       "    <tr>\n",
       "      <th>Male</th>\n",
       "      <td>1</td>\n",
       "      <td>69</td>\n",
       "      <td>31</td>\n",
       "      <td>45</td>\n",
       "      <td>0</td>\n",
       "      <td>0</td>\n",
       "      <td>2</td>\n",
       "      <td>32</td>\n",
       "      <td>0</td>\n",
       "      <td>4</td>\n",
       "      <td>5</td>\n",
       "    </tr>\n",
       "  </tbody>\n",
       "</table>\n",
       "</div>"
      ],
      "text/plain": [
       "Occupation  Accountant  Doctor  Engineer  Lawyer  Manager  Nurse  \\\n",
       "Gender                                                             \n",
       "Female              36       2        32       2        1     72   \n",
       "Male                 1      69        31      45        0      0   \n",
       "\n",
       "Occupation  Sales Representative  Salesperson  Scientist  Software Engineer  \\\n",
       "Gender                                                                        \n",
       "Female                         0            0          4                  0   \n",
       "Male                           2           32          0                  4   \n",
       "\n",
       "Occupation  Teacher  \n",
       "Gender               \n",
       "Female           35  \n",
       "Male              5  "
      ]
     },
     "execution_count": 73,
     "metadata": {},
     "output_type": "execute_result"
    }
   ],
   "source": [
    "#Let check the occupation distribution with the Gender\n",
    "occupation_counts = shl2.groupby(['Gender', 'Occupation'])['Occupation'].count().unstack(fill_value=0)\n",
    "occupation_counts"
   ]
  },
  {
   "cell_type": "code",
   "execution_count": 85,
   "id": "251b8e4b",
   "metadata": {},
   "outputs": [
    {
     "data": {
      "text/plain": [
       "<matplotlib.legend.Legend at 0x1730b076eb0>"
      ]
     },
     "execution_count": 85,
     "metadata": {},
     "output_type": "execute_result"
    },
    {
     "data": {
      "text/plain": [
       "<Figure size 720x432 with 0 Axes>"
      ]
     },
     "metadata": {},
     "output_type": "display_data"
    },
    {
     "data": {
      "image/png": "[encoded data removed]",
      "text/plain": [
       "<Figure size 432x288 with 1 Axes>"
      ]
     },
     "metadata": {
      "needs_background": "light"
     },
     "output_type": "display_data"
    }
   ],
   "source": [
    "plt.figure(figsize=(10, 6))  # Adjust figure size as needed\n",
    "occupation_counts.plot(kind='bar')\n",
    "plt.title(\"Occupation Counts\")\n",
    "plt.xlabel(\"Gender\")\n",
    "plt.ylabel(\"occupation_counts\")\n",
    "plt.xticks(rotation=45, ha='right')  # Rotate x-axis labels for better readability\n",
    "plt.grid(axis='y')  # Add gridlines for better visualization\n",
    "plt.legend(loc='upper left', bbox_to_anchor=(1.05, 1))"
   ]
  },
  {
   "cell_type": "markdown",
   "id": "f1945686",
   "metadata": {},
   "source": [
    "<a id='conclusions'></a>\n",
    "# Conclusions\n",
    "\n",
    "In this Research Analysis we checked the follwing;\n",
    "\n",
    "Top 10 occupations with good quality of sleep  \n",
    "Occupations with lowest Quality of sleep  \n",
    "The gender distribution  \n",
    "Relationship between Age, Gender, and Quality of Sleep  \n",
    "Relationship between Age, Occupation, and Quality of Sleep \n",
    "Relationship between Stress Level, Gender, and Quality of Sleep  \n",
    "Count for Occupation and plot a histogram to represent it  \n",
    "Occupation with high stress level  \n",
    "Occupation with low stress level  \n",
    "Occupation distribution with the Gender\n",
    "Relationship between Sleep Disorder, Age, and Quality of Sleep"
   ]
  }
 ],
 "metadata": {
  "kernelspec": {
   "display_name": "Python 3",
   "language": "python",
   "name": "python3"
  },
  "language_info": {
   "codemirror_mode": {
    "name": "ipython",
    "version": 3
   },
   "file_extension": ".py",
   "mimetype": "text/x-python",
   "name": "python",
   "nbconvert_exporter": "python",
   "pygments_lexer": "ipython3",
   "version": "3.8.8"
  }
 },
 "nbformat": 4,
 "nbformat_minor": 5
}
